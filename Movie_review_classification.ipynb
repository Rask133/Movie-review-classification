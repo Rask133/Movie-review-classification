{
  "cells": [
    {
      "cell_type": "markdown",
      "metadata": {
        "id": "TMiMTqQ9j2uz"
      },
      "source": [
        "Importing the Libraries"
      ]
    },
    {
      "cell_type": "code",
      "execution_count": null,
      "metadata": {
        "id": "ueIBjFqqcAOu"
      },
      "outputs": [],
      "source": [
        "from tensorflow.keras.datasets import imdb\n",
        "from tensorflow.keras.preprocessing.sequence import pad_sequences\n",
        "from sklearn.model_selection import train_test_split\n",
        "from tensorflow.keras.models import Sequential\n",
        "from tensorflow.keras.layers import Dense,Embedding,LSTM ,Dropout,Bidirectional\n",
        "from tensorflow.keras.preprocessing.sequence import pad_sequences\n",
        "from tensorflow.keras.optimizers import Adam"
      ]
    },
    {
      "cell_type": "markdown",
      "metadata": {
        "id": "Wek-hnVN3uxe"
      },
      "source": [
        "Load the data set"
      ]
    },
    {
      "cell_type": "code",
      "execution_count": null,
      "metadata": {
        "id": "Cvs6QdZd32ag"
      },
      "outputs": [],
      "source": [
        "max_features=10000\n",
        "max_length=500"
      ]
    },
    {
      "cell_type": "code",
      "execution_count": null,
      "metadata": {
        "id": "AstPJ76MijEj",
        "colab": {
          "base_uri": "https://localhost:8080/"
        },
        "outputId": "e5236091-a4fc-4042-ce5b-fa2ef8ad9c3d"
      },
      "outputs": [
        {
          "output_type": "stream",
          "name": "stdout",
          "text": [
            "Downloading data from https://storage.googleapis.com/tensorflow/tf-keras-datasets/imdb.npz\n",
            "17464789/17464789 [==============================] - 0s 0us/step\n"
          ]
        }
      ],
      "source": [
        "#num_words chooses the most frequent 10,000 words\n",
        "(x_train,y_train),(x_test,y_test)=imdb.load_data(num_words=max_features)"
      ]
    },
    {
      "cell_type": "markdown",
      "metadata": {
        "id": "qHGxlHwTxYyN"
      },
      "source": [
        "Preprocess the data"
      ]
    },
    {
      "cell_type": "code",
      "execution_count": null,
      "metadata": {
        "id": "nERufvu7xjTd"
      },
      "outputs": [],
      "source": [
        "x_train=pad_sequences(x_train,maxlen=max_length)\n",
        "x_test=pad_sequences(x_test,maxlen=max_length)"
      ]
    },
    {
      "cell_type": "code",
      "execution_count": null,
      "metadata": {
        "id": "vcM5GBA5x7BD"
      },
      "outputs": [],
      "source": [
        "model=Sequential()\n",
        "model.add(Embedding(max_features,64,input_length=max_length))\n",
        "model.add(Bidirectional(LSTM(128,return_sequences=True)))\n",
        "model.add(Dropout(0.1))\n",
        "model.add(Bidirectional(LSTM(128)))\n",
        "model.add(Dense(1,activation='sigmoid'))"
      ]
    },
    {
      "cell_type": "code",
      "execution_count": null,
      "metadata": {
        "id": "odlWXIPENbpc"
      },
      "outputs": [],
      "source": [
        "model.compile(loss='binary_crossentropy',optimizer=Adam(learning_rate=0.001),metrics=['accuracy'])"
      ]
    },
    {
      "cell_type": "code",
      "execution_count": null,
      "metadata": {
        "colab": {
          "base_uri": "https://localhost:8080/"
        },
        "id": "ewk0gihcN8hp",
        "outputId": "473e6368-fcf3-49b9-b68a-ce2eb3a6304f"
      },
      "outputs": [
        {
          "metadata": {
            "tags": null
          },
          "name": "stdout",
          "output_type": "stream",
          "text": [
            "Epoch 1/5\n",
            "196/196 [==============================] - 2152s 11s/step - loss: 0.5469 - accuracy: 0.7011 - val_loss: 0.5531 - val_accuracy: 0.7556\n",
            "Epoch 2/5\n",
            "196/196 [==============================] - 1972s 10s/step - loss: 0.4286 - accuracy: 0.8046 - val_loss: 0.4216 - val_accuracy: 0.7882\n",
            "Epoch 3/5\n",
            "196/196 [==============================] - 2001s 10s/step - loss: 0.3042 - accuracy: 0.8764 - val_loss: 0.3227 - val_accuracy: 0.8640\n",
            "Epoch 4/5\n",
            "196/196 [==============================] - 1974s 10s/step - loss: 0.2517 - accuracy: 0.9020 - val_loss: 0.3410 - val_accuracy: 0.8599\n",
            "Epoch 5/5\n",
            "196/196 [==============================] - 1991s 10s/step - loss: 0.2260 - accuracy: 0.9125 - val_loss: 0.3425 - val_accuracy: 0.8464\n"
          ]
        }
      ],
      "source": [
        "history=model.fit(x_train,y_train,validation_data=(x_test,y_test),epochs=5,batch_size=128,verbose=1)"
      ]
    },
    {
      "cell_type": "markdown",
      "metadata": {
        "id": "hSPac33Cim6M"
      },
      "source": [
        "Evaluate the performance of the model"
      ]
    },
    {
      "cell_type": "code",
      "execution_count": null,
      "metadata": {
        "colab": {
          "base_uri": "https://localhost:8080/"
        },
        "id": "LWh9Lg1ZO3EZ",
        "outputId": "60908a75-c219-4cf3-e39b-94a783355ff4"
      },
      "outputs": [
        {
          "output_type": "stream",
          "name": "stdout",
          "text": [
            "Accuracy 84.64%\n"
          ]
        }
      ],
      "source": [
        "scores=model.evaluate(x_test,y_test,verbose=0)\n",
        "print('Accuracy %.2f%%'%(scores[1]*100))"
      ]
    },
    {
      "cell_type": "markdown",
      "metadata": {
        "id": "IaQx7i90i_Mj"
      },
      "source": [
        "Plot the performance of the model"
      ]
    },
    {
      "cell_type": "code",
      "execution_count": null,
      "metadata": {
        "id": "JcIFhg6mjE7C"
      },
      "outputs": [],
      "source": [
        "import matplotlib.pyplot as plt\n",
        "\n",
        "#Plot the accuracy\n",
        "plt.plot(history.history['accuracy'])\n",
        "plt.plot(history.history['val_accuracy'])\n",
        "\n",
        "plt.xlabel('Epoch')\n",
        "plt.ylabel('Accuracy')\n",
        "plt.title('Model Accuracy')\n",
        "plt.legend(['Train','Validation'],loc='upper right')\n",
        "plt.show( )\n",
        "\n",
        "#Plot the loss\n",
        "plt.plot(history.history['loss'])\n",
        "plt.plot(history.history['val_loss'])\n",
        "\n",
        "plt.xlabel('Epoch')\n",
        "plt.ylabel('Loss')\n",
        "plt.title('Model Loss')\n",
        "plt.legend(['Train','Validation'],loc='upper right')\n",
        "plt.show( )\n",
        "\n"
      ]
    },
    {
      "cell_type": "code",
      "execution_count": null,
      "metadata": {
        "id": "51KqGnuoqqU9"
      },
      "outputs": [],
      "source": []
    }
  ],
  "metadata": {
    "colab": {
      "provenance": []
    },
    "kernelspec": {
      "display_name": "Python 3",
      "name": "python3"
    },
    "language_info": {
      "name": "python"
    }
  },
  "nbformat": 4,
  "nbformat_minor": 0
}